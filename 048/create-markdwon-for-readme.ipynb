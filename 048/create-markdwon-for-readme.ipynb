{
 "cells": [
  {
   "cell_type": "markdown",
   "metadata": {},
   "source": [
    "# Creting a table of contents for Code Every Day readme.md"
   ]
  },
  {
   "cell_type": "code",
   "execution_count": 2,
   "metadata": {},
   "outputs": [],
   "source": [
    "from datetime import datetime\n",
    "\n",
    "def todays_index():\n",
    "    date_one =\"01/1/2022\"\n",
    "    date_two = datetime.today()\n",
    "\n",
    "    start = datetime.strptime(date_one, \"%d/%m/%Y\")\n",
    "    # end = datetime.strptime(date_two, \"%d/%m/%Y\")\n",
    "    end = date_two\n",
    "\n",
    "    difference = end.date() - start.date()\n",
    "    difference_plus_one = difference.days + 1\n",
    "    print(f\"Today is day: {difference_plus_one}\")\n",
    "    return difference_plus_one"
   ]
  },
  {
   "cell_type": "markdown",
   "metadata": {},
   "source": [
    "Print list of days\n",
    "Sample Markdown:\n",
    "### Test Contents\n",
    "[Day: 001](https://github.com/jamiestorey/CodeEveryDay/tree/master/001)TODO:REPLACE  \n",
    "[Day: 002](https://github.com/jamiestorey/CodeEveryDay/tree/master/002)TODO:REPLACE  \n",
    "[Day: 003](https://github.com/jamiestorey/CodeEveryDay/tree/master/003)TODO:REPLACE  \n",
    "[Day: 004](https://github.com/jamiestorey/CodeEveryDay/tree/master/004)TODO:REPLACE  \n",
    "[Day: 005](https://github.com/jamiestorey/CodeEveryDay/tree/master/005)TODO:REPLACE  \n",
    "[Day: 006](https://github.com/jamiestorey/CodeEveryDay/tree/master/006)TODO:REPLACE "
   ]
  },
  {
   "cell_type": "code",
   "execution_count": 11,
   "metadata": {},
   "outputs": [
    {
     "name": "stdout",
     "output_type": "stream",
     "text": [
      "Today is day: 49\n",
      "[Day: 001](https://github.com/jamiestorey/CodeEveryDay/tree/master/001)TODO:REPLACE  \n",
      "[Day: 002](https://github.com/jamiestorey/CodeEveryDay/tree/master/002)TODO:REPLACE  \n",
      "[Day: 003](https://github.com/jamiestorey/CodeEveryDay/tree/master/003)TODO:REPLACE  \n",
      "[Day: 004](https://github.com/jamiestorey/CodeEveryDay/tree/master/004)TODO:REPLACE  \n",
      "[Day: 005](https://github.com/jamiestorey/CodeEveryDay/tree/master/005)TODO:REPLACE  \n",
      "[Day: 006](https://github.com/jamiestorey/CodeEveryDay/tree/master/006)TODO:REPLACE  \n",
      "[Day: 007](https://github.com/jamiestorey/CodeEveryDay/tree/master/007)TODO:REPLACE  \n",
      "[Day: 008](https://github.com/jamiestorey/CodeEveryDay/tree/master/008)TODO:REPLACE  \n",
      "[Day: 009](https://github.com/jamiestorey/CodeEveryDay/tree/master/009)TODO:REPLACE  \n",
      "[Day: 010](https://github.com/jamiestorey/CodeEveryDay/tree/master/010)  \n",
      "[Day: 011](https://github.com/jamiestorey/CodeEveryDay/tree/master/011)  \n",
      "[Day: 012](https://github.com/jamiestorey/CodeEveryDay/tree/master/012)  \n",
      "[Day: 013](https://github.com/jamiestorey/CodeEveryDay/tree/master/013)  \n",
      "[Day: 014](https://github.com/jamiestorey/CodeEveryDay/tree/master/014)  \n",
      "[Day: 015](https://github.com/jamiestorey/CodeEveryDay/tree/master/015)  \n",
      "[Day: 016](https://github.com/jamiestorey/CodeEveryDay/tree/master/016)  \n",
      "[Day: 017](https://github.com/jamiestorey/CodeEveryDay/tree/master/017)  \n",
      "[Day: 018](https://github.com/jamiestorey/CodeEveryDay/tree/master/018)  \n",
      "[Day: 019](https://github.com/jamiestorey/CodeEveryDay/tree/master/019)  \n",
      "[Day: 020](https://github.com/jamiestorey/CodeEveryDay/tree/master/020)  \n",
      "[Day: 021](https://github.com/jamiestorey/CodeEveryDay/tree/master/021)  \n",
      "[Day: 022](https://github.com/jamiestorey/CodeEveryDay/tree/master/022)  \n",
      "[Day: 023](https://github.com/jamiestorey/CodeEveryDay/tree/master/023)  \n",
      "[Day: 024](https://github.com/jamiestorey/CodeEveryDay/tree/master/024)  \n",
      "[Day: 025](https://github.com/jamiestorey/CodeEveryDay/tree/master/025)  \n",
      "[Day: 026](https://github.com/jamiestorey/CodeEveryDay/tree/master/026)  \n",
      "[Day: 027](https://github.com/jamiestorey/CodeEveryDay/tree/master/027)  \n",
      "[Day: 028](https://github.com/jamiestorey/CodeEveryDay/tree/master/028)  \n",
      "[Day: 029](https://github.com/jamiestorey/CodeEveryDay/tree/master/029)  \n",
      "[Day: 030](https://github.com/jamiestorey/CodeEveryDay/tree/master/030)  \n",
      "[Day: 031](https://github.com/jamiestorey/CodeEveryDay/tree/master/031)  \n",
      "[Day: 032](https://github.com/jamiestorey/CodeEveryDay/tree/master/032)  \n",
      "[Day: 033](https://github.com/jamiestorey/CodeEveryDay/tree/master/033)  \n",
      "[Day: 034](https://github.com/jamiestorey/CodeEveryDay/tree/master/034)  \n",
      "[Day: 035](https://github.com/jamiestorey/CodeEveryDay/tree/master/035)  \n",
      "[Day: 036](https://github.com/jamiestorey/CodeEveryDay/tree/master/036)  \n",
      "[Day: 037](https://github.com/jamiestorey/CodeEveryDay/tree/master/037)  \n",
      "[Day: 038](https://github.com/jamiestorey/CodeEveryDay/tree/master/038)  \n",
      "[Day: 039](https://github.com/jamiestorey/CodeEveryDay/tree/master/039)  \n",
      "[Day: 040](https://github.com/jamiestorey/CodeEveryDay/tree/master/040)  \n",
      "[Day: 041](https://github.com/jamiestorey/CodeEveryDay/tree/master/041)  \n",
      "[Day: 042](https://github.com/jamiestorey/CodeEveryDay/tree/master/042)  \n",
      "[Day: 043](https://github.com/jamiestorey/CodeEveryDay/tree/master/043)  \n",
      "[Day: 044](https://github.com/jamiestorey/CodeEveryDay/tree/master/044)  \n",
      "[Day: 045](https://github.com/jamiestorey/CodeEveryDay/tree/master/045)  \n",
      "[Day: 046](https://github.com/jamiestorey/CodeEveryDay/tree/master/046)  \n",
      "[Day: 047](https://github.com/jamiestorey/CodeEveryDay/tree/master/047)  \n",
      "[Day: 048](https://github.com/jamiestorey/CodeEveryDay/tree/master/048)  \n",
      "[Day: 049](https://github.com/jamiestorey/CodeEveryDay/tree/master/049)  \n"
     ]
    }
   ],
   "source": [
    "day_url = \"https://github.com/jamiestorey/CodeEveryDay/tree/master/\"\n",
    "todo_string = \"TODO:REPLACE\"\n",
    "\n",
    "for index in range(1, todays_index() + 1):\n",
    "    if index < 10:\n",
    "        print(f\"[Day: 00{index}]({day_url}00{index}){todo_string}  \")\n",
    "    elif index < 100:\n",
    "        print(f\"[Day: 0{index}]({day_url}0{index})  \")\n",
    "    else:\n",
    "        print(index)"
   ]
  }
 ],
 "metadata": {
  "interpreter": {
   "hash": "2be5faf79681da6f2a61fdfdd5405d65d042280f7fba6178067603e3a2925119"
  },
  "kernelspec": {
   "display_name": "Python 3.10.1 64-bit",
   "language": "python",
   "name": "python3"
  },
  "language_info": {
   "codemirror_mode": {
    "name": "ipython",
    "version": 3
   },
   "file_extension": ".py",
   "mimetype": "text/x-python",
   "name": "python",
   "nbconvert_exporter": "python",
   "pygments_lexer": "ipython3",
   "version": "3.10.1"
  },
  "orig_nbformat": 4
 },
 "nbformat": 4,
 "nbformat_minor": 2
}
