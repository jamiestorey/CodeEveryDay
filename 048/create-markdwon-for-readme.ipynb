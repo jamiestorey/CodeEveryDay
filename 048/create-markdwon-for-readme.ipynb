{
 "cells": [
  {
   "cell_type": "markdown",
   "metadata": {},
   "source": [
    "# Creting a table of contents for Code Every Day readme.md"
   ]
  },
  {
   "cell_type": "code",
   "execution_count": 15,
   "metadata": {},
   "outputs": [],
   "source": [
    "from datetime import datetime\n",
    "\n",
    "def todays_index():\n",
    "    date_one =\"01/1/2022\"\n",
    "    date_two = datetime.today()\n",
    "\n",
    "    start = datetime.strptime(date_one, \"%d/%m/%Y\")\n",
    "    # end = datetime.strptime(date_two, \"%d/%m/%Y\")\n",
    "    end = date_two\n",
    "\n",
    "    difference = end.date() - start.date()\n",
    "    difference_plus_one = difference.days + 1\n",
    "    print(f\"Today is day: {difference_plus_one}\")\n",
    "    return difference_plus_one"
   ]
  },
  {
   "cell_type": "markdown",
   "metadata": {},
   "source": [
    "Print list of days\n",
    "Sample Markdown:\n",
    "### Test Contents\n",
    "[Day-001](https://github.com/jamiestorey/CodeEveryDay/tree/master/001 \"An ASCII Tree\") An ASCII Tree  \n",
    "[002](https://github.com/jamiestorey/CodeEveryDay/tree/master/002 \"JavaFX App\") A JavaFX App"
   ]
  },
  {
   "cell_type": "code",
   "execution_count": 24,
   "metadata": {},
   "outputs": [
    {
     "name": "stdout",
     "output_type": "stream",
     "text": [
      "Today is day: 48\n",
      "https://github.com/jamiestorey/CodeEveryDay/tree/master/001\n",
      "https://github.com/jamiestorey/CodeEveryDay/tree/master/002\n",
      "https://github.com/jamiestorey/CodeEveryDay/tree/master/003\n",
      "https://github.com/jamiestorey/CodeEveryDay/tree/master/004\n",
      "https://github.com/jamiestorey/CodeEveryDay/tree/master/005\n",
      "https://github.com/jamiestorey/CodeEveryDay/tree/master/006\n",
      "https://github.com/jamiestorey/CodeEveryDay/tree/master/007\n",
      "https://github.com/jamiestorey/CodeEveryDay/tree/master/008\n",
      "https://github.com/jamiestorey/CodeEveryDay/tree/master/009\n",
      "https://github.com/jamiestorey/CodeEveryDay/tree/master/010\n",
      "https://github.com/jamiestorey/CodeEveryDay/tree/master/011\n",
      "https://github.com/jamiestorey/CodeEveryDay/tree/master/012\n",
      "https://github.com/jamiestorey/CodeEveryDay/tree/master/013\n",
      "https://github.com/jamiestorey/CodeEveryDay/tree/master/014\n",
      "https://github.com/jamiestorey/CodeEveryDay/tree/master/015\n",
      "https://github.com/jamiestorey/CodeEveryDay/tree/master/016\n",
      "https://github.com/jamiestorey/CodeEveryDay/tree/master/017\n",
      "https://github.com/jamiestorey/CodeEveryDay/tree/master/018\n",
      "https://github.com/jamiestorey/CodeEveryDay/tree/master/019\n",
      "https://github.com/jamiestorey/CodeEveryDay/tree/master/020\n",
      "https://github.com/jamiestorey/CodeEveryDay/tree/master/021\n",
      "https://github.com/jamiestorey/CodeEveryDay/tree/master/022\n",
      "https://github.com/jamiestorey/CodeEveryDay/tree/master/023\n",
      "https://github.com/jamiestorey/CodeEveryDay/tree/master/024\n",
      "https://github.com/jamiestorey/CodeEveryDay/tree/master/025\n",
      "https://github.com/jamiestorey/CodeEveryDay/tree/master/026\n",
      "https://github.com/jamiestorey/CodeEveryDay/tree/master/027\n",
      "https://github.com/jamiestorey/CodeEveryDay/tree/master/028\n",
      "https://github.com/jamiestorey/CodeEveryDay/tree/master/029\n",
      "https://github.com/jamiestorey/CodeEveryDay/tree/master/030\n",
      "https://github.com/jamiestorey/CodeEveryDay/tree/master/031\n",
      "https://github.com/jamiestorey/CodeEveryDay/tree/master/032\n",
      "https://github.com/jamiestorey/CodeEveryDay/tree/master/033\n",
      "https://github.com/jamiestorey/CodeEveryDay/tree/master/034\n",
      "https://github.com/jamiestorey/CodeEveryDay/tree/master/035\n",
      "https://github.com/jamiestorey/CodeEveryDay/tree/master/036\n",
      "https://github.com/jamiestorey/CodeEveryDay/tree/master/037\n",
      "https://github.com/jamiestorey/CodeEveryDay/tree/master/038\n",
      "https://github.com/jamiestorey/CodeEveryDay/tree/master/039\n",
      "https://github.com/jamiestorey/CodeEveryDay/tree/master/040\n",
      "https://github.com/jamiestorey/CodeEveryDay/tree/master/041\n",
      "https://github.com/jamiestorey/CodeEveryDay/tree/master/042\n",
      "https://github.com/jamiestorey/CodeEveryDay/tree/master/043\n",
      "https://github.com/jamiestorey/CodeEveryDay/tree/master/044\n",
      "https://github.com/jamiestorey/CodeEveryDay/tree/master/045\n",
      "https://github.com/jamiestorey/CodeEveryDay/tree/master/046\n",
      "https://github.com/jamiestorey/CodeEveryDay/tree/master/047\n",
      "https://github.com/jamiestorey/CodeEveryDay/tree/master/048\n"
     ]
    }
   ],
   "source": [
    "day_url = \"https://github.com/jamiestorey/CodeEveryDay/tree/master/\"\n",
    "\n",
    "for index in range(1, todays_index() + 1):\n",
    "    if index < 10:\n",
    "        print(f\"{day_url}00{index}\")\n",
    "    elif index < 100:\n",
    "        print(f\"{day_url}0{index}\")\n",
    "    else:\n",
    "        print(index)"
   ]
  }
 ],
 "metadata": {
  "interpreter": {
   "hash": "2be5faf79681da6f2a61fdfdd5405d65d042280f7fba6178067603e3a2925119"
  },
  "kernelspec": {
   "display_name": "Python 3.10.1 64-bit",
   "language": "python",
   "name": "python3"
  },
  "language_info": {
   "codemirror_mode": {
    "name": "ipython",
    "version": 3
   },
   "file_extension": ".py",
   "mimetype": "text/x-python",
   "name": "python",
   "nbconvert_exporter": "python",
   "pygments_lexer": "ipython3",
   "version": "3.10.1"
  },
  "orig_nbformat": 4
 },
 "nbformat": 4,
 "nbformat_minor": 2
}
