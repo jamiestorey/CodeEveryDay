{
 "cells": [
  {
   "cell_type": "markdown",
   "metadata": {},
   "source": [
    "# Python and dates\n",
    "\n",
    "I'll be using dates in another project soon so I'm just testing."
   ]
  },
  {
   "cell_type": "markdown",
   "metadata": {},
   "source": [
    "## Print a calendar"
   ]
  },
  {
   "cell_type": "code",
   "execution_count": 1,
   "metadata": {},
   "outputs": [
    {
     "name": "stdout",
     "output_type": "stream",
     "text": [
      "   February 2022\n",
      "Su Mo Tu We Th Fr Sa\n",
      "       1  2  3  4  5\n",
      " 6  7  8  9 10 11 12\n",
      "13 14 15 16 17 18 19\n",
      "20 21 22 23 24 25 26\n",
      "27 28\n",
      "\n"
     ]
    }
   ],
   "source": [
    "import calendar\n",
    "\n",
    "a_calendar = calendar.TextCalendar(calendar.SUNDAY)\n",
    "calendar_output = a_calendar.formatmonth(themonth=2, theyear=2022)\n",
    "\n",
    "print(calendar_output)"
   ]
  },
  {
   "cell_type": "markdown",
   "metadata": {},
   "source": [
    "## Print a calendar as html"
   ]
  },
  {
   "cell_type": "code",
   "execution_count": 2,
   "metadata": {},
   "outputs": [
    {
     "name": "stdout",
     "output_type": "stream",
     "text": [
      "<table border=\"0\" cellpadding=\"0\" cellspacing=\"0\" class=\"month\">\n",
      "<tr><th colspan=\"7\" class=\"month\">February 2022</th></tr>\n",
      "<tr><th class=\"sun\">Sun</th><th class=\"mon\">Mon</th><th class=\"tue\">Tue</th><th class=\"wed\">Wed</th><th class=\"thu\">Thu</th><th class=\"fri\">Fri</th><th class=\"sat\">Sat</th></tr>\n",
      "<tr><td class=\"noday\">&nbsp;</td><td class=\"noday\">&nbsp;</td><td class=\"tue\">1</td><td class=\"wed\">2</td><td class=\"thu\">3</td><td class=\"fri\">4</td><td class=\"sat\">5</td></tr>\n",
      "<tr><td class=\"sun\">6</td><td class=\"mon\">7</td><td class=\"tue\">8</td><td class=\"wed\">9</td><td class=\"thu\">10</td><td class=\"fri\">11</td><td class=\"sat\">12</td></tr>\n",
      "<tr><td class=\"sun\">13</td><td class=\"mon\">14</td><td class=\"tue\">15</td><td class=\"wed\">16</td><td class=\"thu\">17</td><td class=\"fri\">18</td><td class=\"sat\">19</td></tr>\n",
      "<tr><td class=\"sun\">20</td><td class=\"mon\">21</td><td class=\"tue\">22</td><td class=\"wed\">23</td><td class=\"thu\">24</td><td class=\"fri\">25</td><td class=\"sat\">26</td></tr>\n",
      "<tr><td class=\"sun\">27</td><td class=\"mon\">28</td><td class=\"noday\">&nbsp;</td><td class=\"noday\">&nbsp;</td><td class=\"noday\">&nbsp;</td><td class=\"noday\">&nbsp;</td><td class=\"noday\">&nbsp;</td></tr>\n",
      "</table>\n",
      "\n"
     ]
    }
   ],
   "source": [
    "html_calendar = calendar.HTMLCalendar(calendar.SUNDAY)\n",
    "html_output = html_calendar.formatmonth(themonth=2, theyear=2022)\n",
    "print(html_output)"
   ]
  },
  {
   "cell_type": "markdown",
   "metadata": {},
   "source": [
    "## Print all months"
   ]
  },
  {
   "cell_type": "code",
   "execution_count": 3,
   "metadata": {},
   "outputs": [
    {
     "name": "stdout",
     "output_type": "stream",
     "text": [
      "                                               2022\n",
      "\n",
      "      January                   February                   March                     April\n",
      "Su Mo Tu We Th Fr Sa      Su Mo Tu We Th Fr Sa      Su Mo Tu We Th Fr Sa      Su Mo Tu We Th Fr Sa\n",
      "                   1             1  2  3  4  5             1  2  3  4  5                      1  2\n",
      " 2  3  4  5  6  7  8       6  7  8  9 10 11 12       6  7  8  9 10 11 12       3  4  5  6  7  8  9\n",
      " 9 10 11 12 13 14 15      13 14 15 16 17 18 19      13 14 15 16 17 18 19      10 11 12 13 14 15 16\n",
      "16 17 18 19 20 21 22      20 21 22 23 24 25 26      20 21 22 23 24 25 26      17 18 19 20 21 22 23\n",
      "23 24 25 26 27 28 29      27 28                     27 28 29 30 31            24 25 26 27 28 29 30\n",
      "30 31\n",
      "\n",
      "        May                       June                      July                     August\n",
      "Su Mo Tu We Th Fr Sa      Su Mo Tu We Th Fr Sa      Su Mo Tu We Th Fr Sa      Su Mo Tu We Th Fr Sa\n",
      " 1  2  3  4  5  6  7                1  2  3  4                      1  2          1  2  3  4  5  6\n",
      " 8  9 10 11 12 13 14       5  6  7  8  9 10 11       3  4  5  6  7  8  9       7  8  9 10 11 12 13\n",
      "15 16 17 18 19 20 21      12 13 14 15 16 17 18      10 11 12 13 14 15 16      14 15 16 17 18 19 20\n",
      "22 23 24 25 26 27 28      19 20 21 22 23 24 25      17 18 19 20 21 22 23      21 22 23 24 25 26 27\n",
      "29 30 31                  26 27 28 29 30            24 25 26 27 28 29 30      28 29 30 31\n",
      "                                                    31\n",
      "\n",
      "     September                  October                   November                  December\n",
      "Su Mo Tu We Th Fr Sa      Su Mo Tu We Th Fr Sa      Su Mo Tu We Th Fr Sa      Su Mo Tu We Th Fr Sa\n",
      "             1  2  3                         1             1  2  3  4  5                   1  2  3\n",
      " 4  5  6  7  8  9 10       2  3  4  5  6  7  8       6  7  8  9 10 11 12       4  5  6  7  8  9 10\n",
      "11 12 13 14 15 16 17       9 10 11 12 13 14 15      13 14 15 16 17 18 19      11 12 13 14 15 16 17\n",
      "18 19 20 21 22 23 24      16 17 18 19 20 21 22      20 21 22 23 24 25 26      18 19 20 21 22 23 24\n",
      "25 26 27 28 29 30         23 24 25 26 27 28 29      27 28 29 30               25 26 27 28 29 30 31\n",
      "                          30 31\n",
      "\n"
     ]
    }
   ],
   "source": [
    "calendars = calendar.setfirstweekday(calendar.SUNDAY)\n",
    "calendars = calendar.calendar(2022, w=1, l=1, c=6, m=4)\n",
    "print(calendars)"
   ]
  },
  {
   "cell_type": "markdown",
   "metadata": {},
   "source": [
    "# Dates Durations"
   ]
  },
  {
   "cell_type": "code",
   "execution_count": 4,
   "metadata": {},
   "outputs": [
    {
     "name": "stdout",
     "output_type": "stream",
     "text": [
      "Difference in days\n",
      "1827\n"
     ]
    }
   ],
   "source": [
    "from datetime import datetime\n",
    "\n",
    "date_one =\"05/2/2017\"\n",
    "date_two = \"06/2/2022\"\n",
    "\n",
    "start = datetime.strptime(date_one, \"%d/%m/%Y\")\n",
    "end = datetime.strptime(date_two, \"%d/%m/%Y\")\n",
    "\n",
    "difference = end.date() - start.date()\n",
    "\n",
    "print(\"Difference in days\")\n",
    "print(difference.days)"
   ]
  },
  {
   "cell_type": "markdown",
   "metadata": {},
   "source": [
    "## Adding days and changing formats"
   ]
  },
  {
   "cell_type": "code",
   "execution_count": 5,
   "metadata": {},
   "outputs": [
    {
     "name": "stdout",
     "output_type": "stream",
     "text": [
      "<class 'datetime.datetime'>\n",
      "2023-02-25\n",
      "25 2 2023\n",
      "25/02/2023\n"
     ]
    }
   ],
   "source": [
    "from datetime import timedelta\n",
    "\n",
    "date_one =\"26/2/2022\"\n",
    "date_two = \"26/2/2022\"\n",
    "\n",
    "start = datetime.strptime(date_one, \"%d/%m/%Y\")\n",
    "end_add = start + timedelta(days=364)\n",
    "\n",
    "print(type(end_add))\n",
    "end_add_str = str(end_add.date())\n",
    "print(end_add_str)\n",
    "\n",
    "old_format = datetime.strptime(end_add_str, \"%Y-%m-%d\")\n",
    "\n",
    "#use strftime\n",
    "new_format = old_format.strftime(\"%d/%m/%Y\")\n",
    "\n",
    "print(end_add.day, end_add.month, end_add.year)\n",
    "print(new_format)"
   ]
  },
  {
   "cell_type": "markdown",
   "metadata": {},
   "source": [
    "## Function to add days to an inputted date"
   ]
  },
  {
   "cell_type": "code",
   "execution_count": 17,
   "metadata": {},
   "outputs": [],
   "source": [
    "def add_days_to_date(date_to_add_to, date_format_string=\"%d/%m/%Y\", days_to_add=1):\n",
    "    start = datetime.strptime(str(date_to_add_to), date_format_string)\n",
    "    end = start + timedelta(days=days_to_add)\n",
    "    \n",
    "    return end"
   ]
  },
  {
   "cell_type": "markdown",
   "metadata": {},
   "source": [
    "## Function to change the format of the date returned by add days function"
   ]
  },
  {
   "cell_type": "code",
   "execution_count": 18,
   "metadata": {},
   "outputs": [],
   "source": [
    "def change_date_format(old_format_date: datetime, new_format=\"%d/%m/%Y\"):\n",
    "   new_format_date =  old_format_date.strftime(new_format)\n",
    "   \n",
    "   return new_format_date"
   ]
  },
  {
   "cell_type": "code",
   "execution_count": 19,
   "metadata": {},
   "outputs": [
    {
     "name": "stdout",
     "output_type": "stream",
     "text": [
      "2022-02-09 00:00:00\n",
      "09/02/2022\n"
     ]
    }
   ],
   "source": [
    "test = add_days_to_date(date_to_add_to=\"7/2/2022\", days_to_add=2)\n",
    "print(test)\n",
    "\n",
    "test2 = change_date_format(old_format_date=test)\n",
    "print(test2)"
   ]
  },
  {
   "cell_type": "markdown",
   "metadata": {},
   "source": [
    "### Testing adding 14 days\n",
    "A project I'll be making rquires a list of days for 2 weeks excluding saturdays and sundays with the starting day being a wednesday and the end a tuesday"
   ]
  },
  {
   "cell_type": "code",
   "execution_count": 25,
   "metadata": {},
   "outputs": [
    {
     "name": "stdout",
     "output_type": "stream",
     "text": [
      "2022-02-22 00:00:00\n",
      "22/02/2022\n"
     ]
    }
   ],
   "source": [
    "starting_wednesday = \"9/2/2022\"\n",
    "ending_tuesday = add_days_to_date(date_to_add_to=starting_wednesday, days_to_add=14-1)\n",
    "\n",
    "# should be 22/2/2022 ✅\n",
    "print(ending_tuesday)\n",
    "ending_tuesday = change_date_format(ending_tuesday)\n",
    "print(ending_tuesday)"
   ]
  },
  {
   "cell_type": "markdown",
   "metadata": {},
   "source": [
    "### Print all the dates between starting wednesdy and ending tuesday\n",
    "#### todo -[X] exclude staturdays and sundays"
   ]
  },
  {
   "cell_type": "code",
   "execution_count": 50,
   "metadata": {},
   "outputs": [
    {
     "name": "stdout",
     "output_type": "stream",
     "text": [
      "Wednesday - 09/02/2022\n",
      "Thursday - 10/02/2022\n",
      "Friday - 11/02/2022\n",
      "Monday - 14/02/2022\n",
      "Tuesday - 15/02/2022\n",
      "Wednesday - 16/02/2022\n",
      "Thursday - 17/02/2022\n",
      "Friday - 18/02/2022\n",
      "Monday - 21/02/2022\n",
      "Tuesday - 22/02/2022\n"
     ]
    }
   ],
   "source": [
    "for counter in range(14):\n",
    "   x = add_days_to_date(date_to_add_to=starting_wednesday ,days_to_add=counter)\n",
    "   y = x.strftime(\"%A\")\n",
    "   \n",
    "   # Don't Print Saturday or Sunday, Only Saturday and Sunday start with the letter S\n",
    "   if(y[0] == \"S\"):continue\n",
    "   \n",
    "   x = change_date_format(x)\n",
    "   print(f\"{y} - {x}\")"
   ]
  },
  {
   "cell_type": "markdown",
   "metadata": {},
   "source": [
    "### The format of the date I want is actually \"Wednesday, 09\""
   ]
  },
  {
   "cell_type": "code",
   "execution_count": 61,
   "metadata": {},
   "outputs": [
    {
     "name": "stdout",
     "output_type": "stream",
     "text": [
      "9/2/2022\n",
      "<class 'str'>\n",
      "2022-02-09 00:00:00\n",
      "<class 'datetime.datetime'>\n",
      "09/02/2022\n",
      "<class 'str'>\n",
      "2022-02-09 00:00:00\n",
      "<class 'datetime.datetime'>\n"
     ]
    }
   ],
   "source": [
    "print(starting_wednesday)\n",
    "print(type(starting_wednesday))\n",
    "\n",
    "test_format = add_days_to_date(date_to_add_to=starting_wednesday, days_to_add=0)\n",
    "print(test_format)\n",
    "print(type(test_format))\n",
    "\n",
    "test_format = change_date_format(test_format)\n",
    "print(test_format)\n",
    "print(type(test_format))\n",
    "\n",
    "kewl = datetime.strptime(test_format,\"%d/%m/%Y\")\n",
    "print(kewl)\n",
    "print(type(kewl))"
   ]
  },
  {
   "cell_type": "code",
   "execution_count": 66,
   "metadata": {},
   "outputs": [
    {
     "name": "stdout",
     "output_type": "stream",
     "text": [
      "2022-02-09 00:00:00\n",
      "<class 'datetime.datetime'>\n",
      "Wednesday, 09\n",
      "<class 'str'>\n"
     ]
    }
   ],
   "source": [
    "test_format = add_days_to_date(date_to_add_to=starting_wednesday, days_to_add=0)\n",
    "print(test_format)\n",
    "print(type(test_format))\n",
    "\n",
    "format_i_want = test_format.strftime(\"%A, %d\")\n",
    "print(format_i_want)\n",
    "print(type(format_i_want))"
   ]
  },
  {
   "cell_type": "markdown",
   "metadata": {},
   "source": [
    "### Print format I want with a new line between"
   ]
  },
  {
   "cell_type": "code",
   "execution_count": 71,
   "metadata": {},
   "outputs": [
    {
     "name": "stdout",
     "output_type": "stream",
     "text": [
      "Wednesday, 09\n",
      "\n",
      "Thursday, 10\n",
      "\n",
      "Friday, 11\n",
      "\n",
      "Monday, 14\n",
      "\n",
      "Tuesday, 15\n",
      "\n",
      "Wednesday, 16\n",
      "\n",
      "Thursday, 17\n",
      "\n",
      "Friday, 18\n",
      "\n",
      "Monday, 21\n",
      "\n",
      "Tuesday, 22\n",
      "\n"
     ]
    }
   ],
   "source": [
    "for counter in range(14):\n",
    "   x = add_days_to_date(date_to_add_to=starting_wednesday ,days_to_add=counter)\n",
    "   y = x.strftime(\"%A, %d\")\n",
    "   \n",
    "   # Don't Print Saturday or Sunday, Only Saturday and Sunday start with the letter S\n",
    "   if(y[0] == \"S\"):continue\n",
    "   \n",
    "   x = change_date_format(x)\n",
    "   print(f\"{y}\")\n",
    "   print()"
   ]
  }
 ],
 "metadata": {
  "interpreter": {
   "hash": "2be5faf79681da6f2a61fdfdd5405d65d042280f7fba6178067603e3a2925119"
  },
  "kernelspec": {
   "display_name": "Python 3.10.1 64-bit",
   "language": "python",
   "name": "python3"
  },
  "language_info": {
   "codemirror_mode": {
    "name": "ipython",
    "version": 3
   },
   "file_extension": ".py",
   "mimetype": "text/x-python",
   "name": "python",
   "nbconvert_exporter": "python",
   "pygments_lexer": "ipython3",
   "version": "3.10.1"
  },
  "orig_nbformat": 4
 },
 "nbformat": 4,
 "nbformat_minor": 2
}
