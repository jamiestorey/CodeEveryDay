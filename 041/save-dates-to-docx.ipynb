{
 "cells": [
  {
   "cell_type": "markdown",
   "metadata": {
    "collapsed": true,
    "pycharm": {
     "name": "#%% md\n"
    }
   },
   "source": [
    "# Saving dates to a Word Document"
   ]
  },
  {
   "cell_type": "code",
   "execution_count": 12,
   "outputs": [],
   "source": [
    "from datetime import datetime\n",
    "from datetime import timedelta\n",
    "\n",
    "\n",
    "def add_days_to_date(date_to_add_to, date_format_string=\"%d/%m/%Y\", days_to_add=1):\n",
    "    start = datetime.strptime(str(date_to_add_to), date_format_string)\n",
    "    end = start + timedelta(days=days_to_add)\n",
    "\n",
    "    return end\n",
    "\n",
    "\n",
    "def change_date_format(old_format_date: datetime, new_format=\"%d/%m/%Y\"):\n",
    "   new_format_date =  old_format_date.strftime(new_format)\n",
    "\n",
    "   return new_format_date\n",
    "\n",
    "\n",
    "def print_all_dates(theStartingWednesday: str):\n",
    "    list =[]\n",
    "    for counter in range(14):\n",
    "      x = add_days_to_date(date_to_add_to=theStartingWednesday ,days_to_add=counter)\n",
    "      y = x.strftime(\"%A, %d\")\n",
    "\n",
    "      # Don't Print Saturday or Sunday, Only Saturday and Sunday start with the letter S\n",
    "      if(y[0] == \"S\"):continue\n",
    "\n",
    "      x = change_date_format(x)\n",
    "      print(f\"{y}\")\n",
    "      list.append(y)\n",
    "      print()\n",
    "\n",
    "    return list\n",
    "\n"
   ],
   "metadata": {
    "collapsed": false,
    "pycharm": {
     "name": "#%%\n"
    }
   }
  },
  {
   "cell_type": "code",
   "execution_count": 13,
   "outputs": [
    {
     "name": "stdout",
     "output_type": "stream",
     "text": [
      "Wednesday, 09\n",
      "\n",
      "Thursday, 10\n",
      "\n",
      "Friday, 11\n",
      "\n",
      "Monday, 14\n",
      "\n",
      "Tuesday, 15\n",
      "\n",
      "Wednesday, 16\n",
      "\n",
      "Thursday, 17\n",
      "\n",
      "Friday, 18\n",
      "\n",
      "Monday, 21\n",
      "\n",
      "Tuesday, 22\n",
      "\n"
     ]
    },
    {
     "data": {
      "text/plain": "['Wednesday, 09',\n 'Thursday, 10',\n 'Friday, 11',\n 'Monday, 14',\n 'Tuesday, 15',\n 'Wednesday, 16',\n 'Thursday, 17',\n 'Friday, 18',\n 'Monday, 21',\n 'Tuesday, 22']"
     },
     "execution_count": 13,
     "metadata": {},
     "output_type": "execute_result"
    }
   ],
   "source": [
    "starting_wednesday = \"9/2/2022\"\n",
    "# ending_tuesday = add_days_to_date(date_to_add_to=starting_wednesday, days_to_add=14-1)\n",
    "\n",
    "print_all_dates(starting_wednesday)\n"
   ],
   "metadata": {
    "collapsed": false,
    "pycharm": {
     "name": "#%%\n"
    }
   }
  },
  {
   "cell_type": "markdown",
   "source": [
    "## Creating the docx"
   ],
   "metadata": {
    "collapsed": false
   }
  },
  {
   "cell_type": "code",
   "execution_count": 20,
   "outputs": [
    {
     "name": "stdout",
     "output_type": "stream",
     "text": [
      "Wednesday, 09\n",
      "\n",
      "Thursday, 10\n",
      "\n",
      "Friday, 11\n",
      "\n",
      "Monday, 14\n",
      "\n",
      "Tuesday, 15\n",
      "\n",
      "Wednesday, 16\n",
      "\n",
      "Thursday, 17\n",
      "\n",
      "Friday, 18\n",
      "\n",
      "Monday, 21\n",
      "\n",
      "Tuesday, 22\n",
      "\n"
     ]
    }
   ],
   "source": [
    "from docx import Document\n",
    "from docx.shared import Inches, Cm\n",
    "\n",
    "document = Document()\n",
    "sections = document.sections\n",
    "for section in sections:\n",
    "    section.top_margin = Cm(0.5)\n",
    "    section.bottom_margin = Cm(0.5)\n",
    "    section.left_margin = Cm(1)\n",
    "    section.right_margin = Cm(1)\n",
    "\n",
    "document.add_heading('Saving Dates', 0)\n",
    "dates_list = print_all_dates(starting_wednesday)\n",
    "\n",
    "for date in dates_list:\n",
    "    document.add_heading(date, level=1)\n",
    "    document.add_paragraph(\"A line underneath the date \" + '\\n' + '\\n' + '£')\n",
    "\n",
    "document.save('test-document.docx')"
   ],
   "metadata": {
    "collapsed": false,
    "pycharm": {
     "name": "#%%\n"
    }
   }
  },
  {
   "cell_type": "code",
   "execution_count": 14,
   "outputs": [],
   "source": [],
   "metadata": {
    "collapsed": false,
    "pycharm": {
     "name": "#%%\n"
    }
   }
  }
 ],
 "metadata": {
  "kernelspec": {
   "display_name": "Python 3",
   "language": "python",
   "name": "python3"
  },
  "language_info": {
   "codemirror_mode": {
    "name": "ipython",
    "version": 2
   },
   "file_extension": ".py",
   "mimetype": "text/x-python",
   "name": "python",
   "nbconvert_exporter": "python",
   "pygments_lexer": "ipython2",
   "version": "2.7.6"
  }
 },
 "nbformat": 4,
 "nbformat_minor": 0
}